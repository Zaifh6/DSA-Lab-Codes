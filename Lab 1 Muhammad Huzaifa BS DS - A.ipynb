{
 "cells": [
  {
   "cell_type": "markdown",
   "id": "78797670",
   "metadata": {},
   "source": [
    "1. $\\bf {Sample\\, space − }$ A set of all possible outcomes of a random experiment.\n",
    "\n",
    "2. ${\\bf Event − }$  A subset of the sample space representing a particular outcome or perhaps a set of outcomes for a random experiment.\n",
    "\n",
    "3. ${\\bf Probability −}$ A number between 0 and 1 that represents the likelihood of an event occurring. A probability 0 indicates that an event is impossible where as a probability of 1 indicates that it is a for sure to occur."
   ]
  },
  {
   "cell_type": "markdown",
   "id": "4ec72723",
   "metadata": {},
   "source": [
    "# Generating Random Numbers"
   ]
  },
  {
   "cell_type": "code",
   "execution_count": 2,
   "id": "ea2a6722",
   "metadata": {},
   "outputs": [
    {
     "name": "stdout",
     "output_type": "stream",
     "text": [
      "Random integer: 79\n",
      "Random float: 0.5437150170340119\n"
     ]
    }
   ],
   "source": [
    "import random\n",
    "\n",
    "# Generate a random integer number having values between 0 and 100\n",
    "random_integer = random.randint(0, 100)\n",
    "print(\"Random integer:\", random_integer)\n",
    "\n",
    "# Generate a random float number having values between 0 and 1\n",
    "random_float = random.random()\n",
    "print(\"Random float:\", random_float)"
   ]
  },
  {
   "cell_type": "markdown",
   "id": "95d2ccbc",
   "metadata": {},
   "source": [
    "# Defining a Sample Space and Calculating the Probability of an Event\n",
    "The sample space which is a set of all possible outcomes is defined as a list and another list which is an event and is the sub set of the sample space. Our goal here is calculating the probability of the event which number of outcomes divided by sample space."
   ]
  },
  {
   "cell_type": "code",
   "execution_count": 9,
   "id": "04aba5d3",
   "metadata": {},
   "outputs": [
    {
     "name": "stdout",
     "output_type": "stream",
     "text": [
      "Probability of the events occuring is: 0.6\n"
     ]
    }
   ],
   "source": [
    "# Define a sample space\n",
    "sample_space = [1, 2, 3, 4, 5]\n",
    "\n",
    "# Define an event\n",
    "event = [1, 2, 3]\n",
    "\n",
    "# Calculate the probability of the event\n",
    "probability = len(event) / len(sample_space)\n",
    "print(\"Probability of the events occuring is:\", probability)"
   ]
  },
  {
   "cell_type": "markdown",
   "id": "919d3a9d",
   "metadata": {},
   "source": [
    "# Computing Conditional Probability\n",
    "\n",
    "Calculating the probability of event A, given that event B has already occurred is known as conditional probability. In simpler terms, conditional probability is used to model the relationship between 2 events. For example, if you know that it is raining outside, you might have a different estimation of the probability of taking an umbrella with you compared to if you didn't know about the rain."
   ]
  },
  {
   "cell_type": "code",
   "execution_count": 6,
   "id": "ca023d0f",
   "metadata": {},
   "outputs": [
    {
     "name": "stdout",
     "output_type": "stream",
     "text": [
      "Joint probability of A and B: 0.4\n",
      "Conditional probability of A given B: 0.6666666666666667\n"
     ]
    }
   ],
   "source": [
    "# Define a sample space\n",
    "sample_space = [1, 2, 3, 4, 5]\n",
    "\n",
    "# Define events A and B\n",
    "event_A = [1, 2, 3]\n",
    "event_B = [2, 3, 4]\n",
    "\n",
    "# Calculate the joint probability of A and B\n",
    "joint_probability = len([x for x in event_A if x in event_B]) / len(sample_space)\n",
    "print(\"Joint probability of A and B:\", joint_probability)\n",
    "\n",
    "# Calculate the conditional probability of A given B\n",
    "conditional_probability = joint_probability / (len(event_B) / len(sample_space))\n",
    "print(\"Conditional probability of A given B:\", conditional_probability)"
   ]
  },
  {
   "cell_type": "markdown",
   "id": "b5f33abe",
   "metadata": {},
   "source": [
    "# Calculating Expected Value\n",
    "Expected value of a random variable is the measure of its central tendency. It is an estimate of the average outcome of many repetitions for a random experiment, like in the case when you flip a coin too many times, the probability of heads and tails is equal."
   ]
  },
  {
   "cell_type": "code",
   "execution_count": 11,
   "id": "6f0df71f",
   "metadata": {},
   "outputs": [
    {
     "name": "stdout",
     "output_type": "stream",
     "text": [
      "Expected value: 23.0\n"
     ]
    }
   ],
   "source": [
    "# Define a probability distribution\n",
    "probabilities = [0.2, 0.3, 0.5]\n",
    "outcomes = [10, 20, 30]\n",
    "\n",
    "# Calculate the expected value\n",
    "expected_value = sum([p * x for p, x in zip(probabilities, outcomes)])\n",
    "print(\"Expected value:\", expected_value)"
   ]
  },
  {
   "cell_type": "markdown",
   "id": "2b58f08c",
   "metadata": {},
   "source": [
    "# Calculating the Probability of Rolling a 6 on a Fair Die\n",
    "A die has 6 sides labelled 1 to 6. Using the basics explained above, we are now going to calculate the probability of rolling a 6 on a fair die."
   ]
  },
  {
   "cell_type": "code",
   "execution_count": 9,
   "id": "3a2599d0",
   "metadata": {},
   "outputs": [
    {
     "name": "stdout",
     "output_type": "stream",
     "text": [
      "Probability of 6 is: 0.1682\n"
     ]
    }
   ],
   "source": [
    "import random\n",
    "\n",
    "def roll_die():\n",
    "   return random.randint(1, 6)\n",
    "\n",
    "num_trials = 10\n",
    "num_sixes = 0\n",
    "\n",
    "for i in range(num_trials):\n",
    "   result = roll_die()\n",
    "   if result == 6:\n",
    "      num_sixes += 1\n",
    "\n",
    "prob_six = num_sixes / num_trials\n",
    "print(\"Probability of 6 is:\",prob_six)"
   ]
  },
  {
   "cell_type": "markdown",
   "id": "b299c62e",
   "metadata": {},
   "source": [
    "##### Problem 1: A Box 100 Cards numbering from 1 to 100. A Card is picked at random. Find the prob that the number is an even number"
   ]
  },
  {
   "cell_type": "code",
   "execution_count": 24,
   "id": "9de62ddf",
   "metadata": {},
   "outputs": [
    {
     "name": "stdout",
     "output_type": "stream",
     "text": [
      "0.5\n"
     ]
    }
   ],
   "source": [
    "trials = 100\n",
    "even = 0\n",
    "for i in range(trials):\n",
    "    if i % 2 == 0:\n",
    "        even += 1\n",
    "print(even/trials)"
   ]
  },
  {
   "cell_type": "markdown",
   "id": "367ea517",
   "metadata": {},
   "source": [
    "#### From Problem 1, Find probability of a perfect square given that the number is even number"
   ]
  },
  {
   "cell_type": "code",
   "execution_count": 25,
   "id": "94ffa69f",
   "metadata": {},
   "outputs": [
    {
     "name": "stdout",
     "output_type": "stream",
     "text": [
      "0.1\n"
     ]
    }
   ],
   "source": [
    "import math\n",
    "trials = 100\n",
    "even = 0\n",
    "perfect_square = 0\n",
    "for i in range(trials):\n",
    "    if i % 2 == 0:\n",
    "        even +=1\n",
    "        ps = math.sqrt(i)\n",
    "        if ps.is_integer():\n",
    "            perfect_square += 1\n",
    "print(perfect_square/even)"
   ]
  },
  {
   "cell_type": "markdown",
   "id": "3d4bf919",
   "metadata": {},
   "source": [
    "# Calculating the conditional probability of rolling a 6 on the first die given that the sum of the two dice is 7\n",
    "\n",
    "Here we are going to make use of the conditional probability explained above. We will calculate the conditional probability of a rolling a 6 on the 1st die knowing that the sum of the two die is 7. It can also be stated as the probability of 6 on die 1, given that die 2 is 1 or vice versa."
   ]
  },
  {
   "cell_type": "code",
   "execution_count": 13,
   "id": "07dd9e96",
   "metadata": {},
   "outputs": [
    {
     "name": "stdout",
     "output_type": "stream",
     "text": [
      "The Probability of rolling a 6 on the first die given that the sum of the two dice is 7 is: 0.16817048557521072\n"
     ]
    }
   ],
   "source": [
    "def roll_two_dice():\n",
    "   die1 = random.randint(1, 6)\n",
    "   die2 = random.randint(1, 6)\n",
    "   return (die1, die2)\n",
    "\n",
    "num_trials = 100000\n",
    "num_six_given_seven = 0\n",
    "num_seven = 0\n",
    "\n",
    "for i in range(num_trials):\n",
    "   result = roll_two_dice()\n",
    "   if sum(result) == 7:\n",
    "      num_seven += 1\n",
    "      if result[0] == 6:\n",
    "         num_six_given_seven += 1\n",
    "\n",
    "prob_six_given_seven = num_six_given_seven / num_seven\n",
    "print(\"The Probability of rolling a 6 on the first die given that the sum of the two dice is 7 is:\",prob_six_given_seven)"
   ]
  },
  {
   "cell_type": "markdown",
   "id": "e54c5e05",
   "metadata": {},
   "source": [
    "# Statistics with SciPy\n",
    "We'll typically use the stats module from scipy for statistical operations, especially with random variables. The stats module has a lot of built-in functions for common distributions that let us do PMFs, CDFs, mean, variance, standard deviation, and sampling.\n",
    "\n",
    "For any SciPy random variable X, we can use the following functions:\n",
    "\n",
    "1. PMF: X.pmf(k) computes $P(X=k)$\n",
    "2. CDF: X.cdf(k) computes $P(X≤k)$\n",
    "3. Mean: X.mean() computes $E[X]$\n",
    "4. Variance: X.var() computes $Var(X)$\n",
    "5. Standard deviation: X.std() computes $\\sqrt{Var(X)}$\n",
    "6. Sampling: X.rvs(size) samples size values from X\n",
    "\n",
    "\n",
    "Note: make sure to import the stats module with import scipy.stats as stats"
   ]
  },
  {
   "cell_type": "code",
   "execution_count": 25,
   "id": "d349df7f",
   "metadata": {},
   "outputs": [],
   "source": [
    "import scipy.stats as stats\n"
   ]
  },
  {
   "cell_type": "code",
   "execution_count": 26,
   "id": "cd21043f",
   "metadata": {},
   "outputs": [],
   "source": [
    "X = stats.binom(n=10, p=0.5)"
   ]
  },
  {
   "cell_type": "code",
   "execution_count": 34,
   "id": "b233da73",
   "metadata": {},
   "outputs": [
    {
     "data": {
      "text/plain": [
       "0.2050781249999999"
      ]
     },
     "execution_count": 34,
     "metadata": {},
     "output_type": "execute_result"
    }
   ],
   "source": [
    "X.pmf(4)"
   ]
  },
  {
   "cell_type": "code",
   "execution_count": 35,
   "id": "a09c8933",
   "metadata": {},
   "outputs": [],
   "source": [
    "from scipy.stats import poisson"
   ]
  },
  {
   "cell_type": "code",
   "execution_count": 41,
   "id": "91f0e287",
   "metadata": {},
   "outputs": [],
   "source": [
    "X = stats.poisson(mu=5)"
   ]
  },
  {
   "cell_type": "code",
   "execution_count": 40,
   "id": "ba3530e4",
   "metadata": {},
   "outputs": [],
   "source": [
    "X = stats.geom(p=0.4)"
   ]
  },
  {
   "cell_type": "code",
   "execution_count": 49,
   "id": "87bc8a60",
   "metadata": {},
   "outputs": [],
   "source": [
    "X = stats.norm(2,1) # stats.norm(mu,sigma)"
   ]
  },
  {
   "cell_type": "code",
   "execution_count": 51,
   "id": "823ec455",
   "metadata": {},
   "outputs": [],
   "source": [
    "X=stats.expon(10)#X = stats.expon(scale=1/lambda)"
   ]
  },
  {
   "cell_type": "code",
   "execution_count": 52,
   "id": "17520ca0",
   "metadata": {},
   "outputs": [],
   "source": [
    "a = 1\n",
    "b = 3\n",
    "X = stats.uniform(a, b-a)"
   ]
  },
  {
   "cell_type": "code",
   "execution_count": 53,
   "id": "2255b69d",
   "metadata": {},
   "outputs": [],
   "source": [
    "alpha = 2\n",
    "beta = 4\n",
    "X = stats.beta(alpha, beta)"
   ]
  },
  {
   "cell_type": "code",
   "execution_count": null,
   "id": "76f2470c",
   "metadata": {},
   "outputs": [],
   "source": []
  },
  {
   "cell_type": "code",
   "execution_count": null,
   "id": "f1dc17b8",
   "metadata": {},
   "outputs": [],
   "source": []
  }
 ],
 "metadata": {
  "kernelspec": {
   "display_name": "Python 3 (ipykernel)",
   "language": "python",
   "name": "python3"
  },
  "language_info": {
   "codemirror_mode": {
    "name": "ipython",
    "version": 3
   },
   "file_extension": ".py",
   "mimetype": "text/x-python",
   "name": "python",
   "nbconvert_exporter": "python",
   "pygments_lexer": "ipython3",
   "version": "3.10.9"
  }
 },
 "nbformat": 4,
 "nbformat_minor": 5
}
